{
 "cells": [
  {
   "cell_type": "markdown",
   "id": "a41f3622",
   "metadata": {},
   "source": [
    "# Ejercicios de probabilidad"
   ]
  },
  {
   "cell_type": "markdown",
   "id": "a6bdbd89",
   "metadata": {},
   "source": [
    "## Ejercicio 1 \n",
    "\n",
    "Dos dados se lanzan una vez y se observa el total obtenido. Usa una simulación para encontrar la probabilidad estimada de que la puntuación sea mayor a 7 o un número par. Una simulación es una repetición del mismo experimento multiples veces para observar su comportamiento:\n",
    "\n",
    "- Ejecuta el experimento 1000 veces (lanza 2 dados 1000 veces, y suma el número de ambos dados).\n",
    "- Lleva ua cuenta de los números y las veces que la suma fue mayor a 7 o un número par.\n",
    "- Divide el número del paso 2 entre el número de iteraciones(1000)."
   ]
  },
  {
   "cell_type": "code",
   "execution_count": 2,
   "id": "8939d892",
   "metadata": {},
   "outputs": [
    {
     "name": "stdout",
     "output_type": "stream",
     "text": [
      "0.691\n"
     ]
    }
   ],
   "source": [
    "import numpy as np\n",
    "\n",
    "dado1 = np.random.randint(1,7,1000)\n",
    "dado2 = np.random.randint(1,7,1000)\n",
    "resultados = dado1 + dado2\n",
    "par_o_mayor7 = resultados[(resultados > 7) | (resultados % 2 == 0)]\n",
    "veces_par_o_mayor7 = len(par_o_mayor7)\n",
    "prob_par_o_mayor7 = veces_par_o_mayor7 / 1000\n",
    "print(prob_par_o_mayor7)"
   ]
  },
  {
   "cell_type": "markdown",
   "id": "55732bca",
   "metadata": {},
   "source": [
    "## Ejercicio 2\n",
    "\n",
    "Una caja contiene 10 bolas blancas, 20 bolas rojas y 30 bolas verdes. Si tomamos 5 bolas de la caja reemplazándolas (tomando una bola, anotando el color y luego regresandola a la caja). Queremos saber la probabilidad de:\n",
    "\n",
    "1. Tomar 3 blancas y 2 rojas.\n",
    "2. Toas todas del mismo color.\n",
    "\n",
    "Ejecuta el experimento 1000 veces y calcula las probabilidades que mencionadas."
   ]
  },
  {
   "cell_type": "code",
   "execution_count": 16,
   "id": "23244d20",
   "metadata": {},
   "outputs": [
    {
     "name": "stdout",
     "output_type": "stream",
     "text": [
      "{0: 'White', 1: 'White', 2: 'White', 3: 'White', 4: 'White', 5: 'White', 6: 'White', 7: 'White', 8: 'White', 9: 'White', 10: 'Red', 11: 'Red', 12: 'Red', 13: 'Red', 14: 'Red', 15: 'Red', 16: 'Red', 17: 'Red', 18: 'Red', 19: 'Red', 20: 'Red', 21: 'Red', 22: 'Red', 23: 'Red', 24: 'Red', 25: 'Red', 26: 'Red', 27: 'Red', 28: 'Red', 29: 'Red', 30: 'Green', 31: 'Green', 32: 'Green', 33: 'Green', 34: 'Green', 35: 'Green', 36: 'Green', 37: 'Green', 38: 'Green', 39: 'Green', 40: 'Green', 41: 'Green', 42: 'Green', 43: 'Green', 44: 'Green', 45: 'Green', 46: 'Green', 47: 'Green', 48: 'Green', 49: 'Green', 50: 'Green', 51: 'Green', 52: 'Green', 53: 'Green', 54: 'Green', 55: 'Green', 56: 'Green', 57: 'Green', 58: 'Green', 59: 'Green'}\n",
      "0.002\n",
      "0.036\n"
     ]
    }
   ],
   "source": [
    "ball_box = {}\n",
    "\n",
    "# Crea la cajas con las bolas\n",
    "for i in range(60):\n",
    "    if i < 10:\n",
    "        ball_box[i] = \"White\"\n",
    "    elif (i > 9) and (i < 30):\n",
    "        ball_box[i] = \"Red\"\n",
    "    else:\n",
    "        ball_box[i] = \"Green\"\n",
    "\n",
    "print(ball_box)\n",
    "            \n",
    "total_colores = []\n",
    "\n",
    "for i in range(1000):\n",
    "    nºbolas = np.random.randint(0, 60, 5)\n",
    "    colores = [ball_box[i] for i in nºbolas]  \n",
    "    total_colores.append(colores)\n",
    "\n",
    "count_R = 0\n",
    "count_W = 0\n",
    "count_G = 0\n",
    "WyR = []\n",
    "todas_iguales = []\n",
    "\n",
    "for i in total_colores:\n",
    "    for j in i:\n",
    "        if j == 'Red':\n",
    "            count_R += 1\n",
    "        elif j == 'White':\n",
    "            count_W += 1\n",
    "        else:\n",
    "            count_G += 1\n",
    "    if count_W == 3 and count_R == 2:\n",
    "        WyR.append(i)\n",
    "        count_R = 0\n",
    "        count_W = 0\n",
    "    elif count_G == 5 or count_R == 5 or count_W == 5:\n",
    "        todas_iguales.append(i)\n",
    "        count_W = 0\n",
    "        count_R = 0\n",
    "        count_G = 0\n",
    "    else:\n",
    "        count_W = 0\n",
    "        count_R = 0\n",
    "        count_G = 0\n",
    "\n",
    "prob_WyR = len(WyR)/1000\n",
    "prob_todas_iguales = len(todas_iguales)/1000\n",
    "print(prob_WyR)\n",
    "print(prob_todas_iguales)"
   ]
  }
 ],
 "metadata": {
  "kernelspec": {
   "display_name": "Python 3",
   "language": "python",
   "name": "python3"
  },
  "language_info": {
   "codemirror_mode": {
    "name": "ipython",
    "version": 3
   },
   "file_extension": ".py",
   "mimetype": "text/x-python",
   "name": "python",
   "nbconvert_exporter": "python",
   "pygments_lexer": "ipython3",
   "version": "3.11.4"
  }
 },
 "nbformat": 4,
 "nbformat_minor": 5
}
